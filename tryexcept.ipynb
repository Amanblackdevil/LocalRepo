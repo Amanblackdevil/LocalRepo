{
 "cells": [
  {
   "cell_type": "code",
   "execution_count": 1,
   "metadata": {},
   "outputs": [
    {
     "name": "stdout",
     "output_type": "stream",
     "text": [
      "Something went wrong while opeing file\n"
     ]
    }
   ],
   "source": [
    "try:\n",
    "    f = open(\"demofile.txt\")\n",
    "    try:\n",
    "        f.write(\"Lorem\")\n",
    "    except:\n",
    "        print(\"something went wrong while writing on file\")\n",
    "    finally:\n",
    "        f.close()\n",
    "except:\n",
    "    print(\"Something went wrong while opeing file\")"
   ]
  },
  {
   "cell_type": "code",
   "execution_count": 2,
   "metadata": {},
   "outputs": [
    {
     "name": "stdout",
     "output_type": "stream",
     "text": [
      "Something went wrong when opening the file\n"
     ]
    }
   ],
   "source": [
    "try:\n",
    "  f = open(\"demofile.txt\")\n",
    "  try:\n",
    "    f.write(\"Lorum Ipsum\")\n",
    "  except:\n",
    "    print(\"Something went wrong when writing to the file\")\n",
    "  finally:\n",
    "    f.close()\n",
    "except:\n",
    "  print(\"Something went wrong when opening the file\") "
   ]
  },
  {
   "cell_type": "code",
   "execution_count": 3,
   "metadata": {},
   "outputs": [
    {
     "ename": "Exception",
     "evalue": "Nothing can be less then zero",
     "output_type": "error",
     "traceback": [
      "\u001b[1;31m---------------------------------------------------------------------------\u001b[0m",
      "\u001b[1;31mException\u001b[0m                                 Traceback (most recent call last)",
      "\u001b[1;32mc:\\Users\\NXG2\\Desktop\\python practice\\tryexcept.ipynb Cell 3\u001b[0m line \u001b[0;36m5\n\u001b[0;32m      <a href='vscode-notebook-cell:/c%3A/Users/NXG2/Desktop/python%20practice/tryexcept.ipynb#W2sZmlsZQ%3D%3D?line=1'>2</a>\u001b[0m x \u001b[39m=\u001b[39m \u001b[39m-\u001b[39m\u001b[39m1\u001b[39m\n\u001b[0;32m      <a href='vscode-notebook-cell:/c%3A/Users/NXG2/Desktop/python%20practice/tryexcept.ipynb#W2sZmlsZQ%3D%3D?line=3'>4</a>\u001b[0m \u001b[39mif\u001b[39;00m x \u001b[39m<\u001b[39m \u001b[39m0\u001b[39m:\n\u001b[1;32m----> <a href='vscode-notebook-cell:/c%3A/Users/NXG2/Desktop/python%20practice/tryexcept.ipynb#W2sZmlsZQ%3D%3D?line=4'>5</a>\u001b[0m     \u001b[39mraise\u001b[39;00m \u001b[39mException\u001b[39;00m(\u001b[39m\"\u001b[39m\u001b[39mNothing can be less then zero\u001b[39m\u001b[39m\"\u001b[39m)\n",
      "\u001b[1;31mException\u001b[0m: Nothing can be less then zero"
     ]
    }
   ],
   "source": [
    "#Raise exception\n",
    "x = -1\n",
    "\n",
    "if x < 0:\n",
    "    raise Exception(\"Nothing can be less then zero\")"
   ]
  },
  {
   "cell_type": "code",
   "execution_count": 4,
   "metadata": {},
   "outputs": [
    {
     "ename": "TypeError",
     "evalue": "Value should be interger",
     "output_type": "error",
     "traceback": [
      "\u001b[1;31m---------------------------------------------------------------------------\u001b[0m",
      "\u001b[1;31mTypeError\u001b[0m                                 Traceback (most recent call last)",
      "\u001b[1;32mc:\\Users\\NXG2\\Desktop\\python practice\\tryexcept.ipynb Cell 4\u001b[0m line \u001b[0;36m4\n\u001b[0;32m      <a href='vscode-notebook-cell:/c%3A/Users/NXG2/Desktop/python%20practice/tryexcept.ipynb#W3sZmlsZQ%3D%3D?line=0'>1</a>\u001b[0m x \u001b[39m=\u001b[39m \u001b[39m'\u001b[39m\u001b[39mhello\u001b[39m\u001b[39m'\u001b[39m\n\u001b[0;32m      <a href='vscode-notebook-cell:/c%3A/Users/NXG2/Desktop/python%20practice/tryexcept.ipynb#W3sZmlsZQ%3D%3D?line=2'>3</a>\u001b[0m \u001b[39mif\u001b[39;00m \u001b[39mnot\u001b[39;00m \u001b[39mtype\u001b[39m(x) \u001b[39mis\u001b[39;00m \u001b[39mint\u001b[39m:\n\u001b[1;32m----> <a href='vscode-notebook-cell:/c%3A/Users/NXG2/Desktop/python%20practice/tryexcept.ipynb#W3sZmlsZQ%3D%3D?line=3'>4</a>\u001b[0m     \u001b[39mraise\u001b[39;00m \u001b[39mTypeError\u001b[39;00m(\u001b[39m\"\u001b[39m\u001b[39mValue should be interger\u001b[39m\u001b[39m\"\u001b[39m)\n",
      "\u001b[1;31mTypeError\u001b[0m: Value should be interger"
     ]
    }
   ],
   "source": [
    "x = 'hello'\n",
    "\n",
    "if not type(x) is int:\n",
    "    raise TypeError(\"Value should be interger\")"
   ]
  },
  {
   "cell_type": "code",
   "execution_count": 11,
   "metadata": {},
   "outputs": [],
   "source": [
    "def test_number(x):\n",
    "    try:\n",
    "        x = int(x)\n",
    "        if (x > 3):\n",
    "            print(x)\n",
    "\n",
    "    except TypeError:\n",
    "        print(\"oops! x is not a valid number\")\n",
    "    except ValueError:\n",
    "        print(\"Cannot convert x into integers\")\n",
    "    except:\n",
    "        print(\"Unexpected error\")\n",
    "    finally:\n",
    "        print(\"Completed!!!\") "
   ]
  },
  {
   "cell_type": "code",
   "execution_count": 6,
   "metadata": {},
   "outputs": [
    {
     "name": "stdout",
     "output_type": "stream",
     "text": [
      "oops! x is not a valid number\n",
      "Completed!!!\n"
     ]
    }
   ],
   "source": [
    "x = [1, 2]\n",
    "test_number(x)"
   ]
  },
  {
   "cell_type": "code",
   "execution_count": 7,
   "metadata": {},
   "outputs": [
    {
     "name": "stdout",
     "output_type": "stream",
     "text": [
      "Cannot convert x into integers\n",
      "Completed!!!\n"
     ]
    }
   ],
   "source": [
    "x = 's'\n",
    "test_number(x)"
   ]
  },
  {
   "cell_type": "code",
   "execution_count": 8,
   "metadata": {},
   "outputs": [
    {
     "name": "stdout",
     "output_type": "stream",
     "text": [
      "10\n",
      "Completed!!!\n"
     ]
    }
   ],
   "source": [
    "x = 10\n",
    "test_number(x)"
   ]
  },
  {
   "cell_type": "code",
   "execution_count": 9,
   "metadata": {},
   "outputs": [
    {
     "name": "stdout",
     "output_type": "stream",
     "text": [
      "Completed!!!\n"
     ]
    }
   ],
   "source": [
    "x = 2\n",
    "test_number(x)"
   ]
  },
  {
   "cell_type": "code",
   "execution_count": null,
   "metadata": {},
   "outputs": [],
   "source": []
  }
 ],
 "metadata": {
  "kernelspec": {
   "display_name": "Python 3",
   "language": "python",
   "name": "python3"
  },
  "language_info": {
   "codemirror_mode": {
    "name": "ipython",
    "version": 3
   },
   "file_extension": ".py",
   "mimetype": "text/x-python",
   "name": "python",
   "nbconvert_exporter": "python",
   "pygments_lexer": "ipython3",
   "version": "3.11.6"
  }
 },
 "nbformat": 4,
 "nbformat_minor": 2
}
