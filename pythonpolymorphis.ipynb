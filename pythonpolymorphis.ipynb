{
 "cells": [
  {
   "cell_type": "code",
   "execution_count": 1,
   "metadata": {},
   "outputs": [
    {
     "name": "stdout",
     "output_type": "stream",
     "text": [
      "Drive\n",
      "Sail\n",
      "Fly\n"
     ]
    }
   ],
   "source": [
    "class car:\n",
    "    def __init__(self, brand, model) -> None:\n",
    "        self.brand = brand\n",
    "        self.model = model\n",
    "\n",
    "    def move(self):\n",
    "        print(\"Drive\")\n",
    "\n",
    "\n",
    "class boat:\n",
    "    def __init__(self, brand, model) -> None:\n",
    "        self.brand = brand\n",
    "        self.model = model\n",
    "    \n",
    "    def move(self):\n",
    "        print(\"Sail\")\n",
    "\n",
    "\n",
    "class Plane:\n",
    "    def __init__(self, brand, model) -> None:\n",
    "        self.brand = brand\n",
    "        self.model = model\n",
    "    \n",
    "    def move(self):\n",
    "        print(\"Fly\")\n",
    "\n",
    "\n",
    "car1 = car(\"Ford\", \"Mustang\")\n",
    "boat1 = boat(\"Ibiza\", \"Touring 720\")\n",
    "plane1 = Plane(\"Boeing\", \"747\")\n",
    "\n",
    "for x in (car1, boat1, plane1):\n",
    "    x.move()\n"
   ]
  },
  {
   "cell_type": "code",
   "execution_count": 3,
   "metadata": {},
   "outputs": [
    {
     "name": "stdout",
     "output_type": "stream",
     "text": [
      "Drive\n",
      "Sail\n",
      "Fly\n"
     ]
    }
   ],
   "source": [
    "#Inheritance in polymorphism\n",
    "\n",
    "class Vehicle:\n",
    "    def __init__(self, brand, model):\n",
    "        self.brand = brand\n",
    "        self.model = model\n",
    "\n",
    "    def move(self):\n",
    "        print(\"Drive\")\n",
    "\n",
    "\n",
    "class car(Vehicle):\n",
    "    pass\n",
    "\n",
    "class Ship:\n",
    "    def __init__(self, brand, model):\n",
    "        self.brand = brand\n",
    "        self.model = model\n",
    "\n",
    "    def move(self):\n",
    "        print(\"Sail\")\n",
    "\n",
    "class boat(Ship):\n",
    "    pass\n",
    "\n",
    "class Aeroplane:\n",
    "    def __init__(self, brand, model):\n",
    "        self.brand = brand\n",
    "        self.model = model\n",
    "\n",
    "    def move(self):\n",
    "        print(\"Fly\")\n",
    "\n",
    "class plane(Aeroplane):\n",
    "    pass\n",
    "\n",
    "\n",
    "car2 = car(\"Ford\", \"Mustang\")\n",
    "boat2 = boat(\"Ibiza\", \"Touring 740\")\n",
    "plane2 = plane(\"AirIndia\", \"747\")\n",
    "\n",
    "for x in (car2, boat2, plane2):\n",
    "    x.move()"
   ]
  }
 ],
 "metadata": {
  "kernelspec": {
   "display_name": "Python 3",
   "language": "python",
   "name": "python3"
  },
  "language_info": {
   "codemirror_mode": {
    "name": "ipython",
    "version": 3
   },
   "file_extension": ".py",
   "mimetype": "text/x-python",
   "name": "python",
   "nbconvert_exporter": "python",
   "pygments_lexer": "ipython3",
   "version": "3.11.6"
  }
 },
 "nbformat": 4,
 "nbformat_minor": 2
}
