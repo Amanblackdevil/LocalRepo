{
 "cells": [
  {
   "cell_type": "code",
   "execution_count": 4,
   "metadata": {},
   "outputs": [
    {
     "name": "stdout",
     "output_type": "stream",
     "text": [
      "Yes! its present\n"
     ]
    }
   ],
   "source": [
    "import re\n",
    "\n",
    "txt = \"This raipur is very beautiful\"\n",
    "\n",
    "x = re.search(\"This.raipur\", txt)\n",
    "\n",
    "if x :\n",
    "    print('Yes! its present')\n",
    "else:\n",
    "    print(\"No match\")"
   ]
  },
  {
   "cell_type": "code",
   "execution_count": 5,
   "metadata": {},
   "outputs": [
    {
     "name": "stdout",
     "output_type": "stream",
     "text": [
      "['ai', 'ai']\n"
     ]
    }
   ],
   "source": [
    "#findall function\n",
    "\n",
    "import re\n",
    "\n",
    "txt = \"The rain in spain\"\n",
    "x = re.findall(\"ai\", txt)\n",
    "print(x)"
   ]
  },
  {
   "cell_type": "code",
   "execution_count": 8,
   "metadata": {},
   "outputs": [
    {
     "name": "stdout",
     "output_type": "stream",
     "text": [
      "Find at : 3\n"
     ]
    }
   ],
   "source": [
    "import re\n",
    "\n",
    "txt = \"The rain in spain\"\n",
    "x = re.search(\"\\s\", txt)\n",
    "print(\"Find at :\", x.start())"
   ]
  },
  {
   "cell_type": "code",
   "execution_count": 10,
   "metadata": {},
   "outputs": [
    {
     "name": "stdout",
     "output_type": "stream",
     "text": [
      "Find at : None\n"
     ]
    }
   ],
   "source": [
    "import re\n",
    "\n",
    "txt = \"The rain in spain\"\n",
    "x = re.search(\"Aman\", txt)\n",
    "print(\"Find at :\", x)"
   ]
  },
  {
   "cell_type": "code",
   "execution_count": 11,
   "metadata": {},
   "outputs": [
    {
     "name": "stdout",
     "output_type": "stream",
     "text": [
      "Package                  Version\n",
      "------------------------ ---------\n",
      "apiclient                1.0.4\n",
      "asttokens                2.4.1\n",
      "beautifulsoup4           4.12.2\n",
      "bs4                      0.0.1\n",
      "cachetools               5.3.1\n",
      "camelcase                0.2\n",
      "certifi                  2023.7.22\n",
      "charset-normalizer       3.2.0\n",
      "colorama                 0.4.6\n",
      "comm                     0.2.0\n",
      "debugpy                  1.8.0\n",
      "decorator                5.1.1\n",
      "dnspython                2.4.2\n",
      "executing                2.0.1\n",
      "google-api-core          2.11.1\n",
      "google-api-python-client 2.100.0\n",
      "google-auth              2.23.0\n",
      "google-auth-httplib2     0.1.1\n",
      "google-auth-oauthlib     1.1.0\n",
      "google-cloud-core        2.3.3\n",
      "google-cloud-storage     2.11.0\n",
      "google-crc32c            1.5.0\n",
      "google-resumable-media   2.6.0\n",
      "googleapis-common-protos 1.60.0\n",
      "gspread                  5.11.2\n",
      "httplib2                 0.22.0\n",
      "idna                     3.4\n",
      "install                  1.3.5\n",
      "ipykernel                6.26.0\n",
      "ipython                  8.17.2\n",
      "jedi                     0.19.1\n",
      "jupyter_client           8.6.0\n",
      "jupyter_core             5.5.0\n",
      "matplotlib-inline        0.1.6\n",
      "nest-asyncio             1.5.8\n",
      "numpy                    1.25.1\n",
      "oauth2client             4.1.3\n",
      "oauthlib                 3.2.2\n",
      "packaging                23.1\n",
      "pandas                   2.0.3\n",
      "parso                    0.8.3\n",
      "Pillow                   10.0.1\n",
      "platformdirs             4.0.0\n",
      "prompt-toolkit           3.0.41\n",
      "protobuf                 4.24.3\n",
      "psutil                   5.9.6\n",
      "pure-eval                0.2.2\n",
      "pyasn1                   0.5.0\n",
      "pyasn1-modules           0.3.0\n",
      "Pygments                 2.16.1\n",
      "pymongo                  4.5.0\n",
      "PyMuPDF                  1.23.4\n",
      "PyMuPDFb                 1.23.3\n",
      "pyparsing                3.1.1\n",
      "pytesseract              0.3.10\n",
      "python-dateutil          2.8.2\n",
      "pytz                     2023.3\n",
      "pywin32                  306\n",
      "pyzmq                    25.1.1\n",
      "requests                 2.31.0\n",
      "requests-oauthlib        1.3.1\n",
      "rsa                      4.9\n",
      "six                      1.16.0\n",
      "soupsieve                2.5\n",
      "stack-data               0.6.3\n",
      "tesseract                0.1.3\n",
      "tornado                  6.3.3\n",
      "traitlets                5.13.0\n",
      "tweepy                   4.14.0\n",
      "tzdata                   2023.3\n",
      "uritemplate              4.1.1\n",
      "urllib3                  1.26.16\n",
      "wcwidth                  0.2.10\n",
      "Note: you may need to restart the kernel to use updated packages.\n"
     ]
    },
    {
     "name": "stderr",
     "output_type": "stream",
     "text": [
      "\n",
      "[notice] A new release of pip is available: 23.2.1 -> 23.3.1\n",
      "[notice] To update, run: C:\\Users\\NXG2\\AppData\\Local\\Microsoft\\WindowsApps\\PythonSoftwareFoundation.Python.3.11_qbz5n2kfra8p0\\python.exe -m pip install --upgrade pip\n"
     ]
    }
   ],
   "source": [
    "pip list"
   ]
  },
  {
   "cell_type": "code",
   "execution_count": 22,
   "metadata": {},
   "outputs": [
    {
     "name": "stdout",
     "output_type": "stream",
     "text": [
      "Invalid email\n"
     ]
    }
   ],
   "source": [
    "import re\n",
    "\n",
    "regex = re.compile(r'([A-Za-z0-9]+[.-_])*[A-Za-z0-9]+@[A-Za-z0-9-]+(\\.[A-Z|a-z]{2,})+')\n",
    "\n",
    "def validEmail(email):\n",
    "    if re.fullmatch(regex, email):\n",
    "        print(\"Valid email\")\n",
    "    else:\n",
    "        print(\"Invalid email\")\n",
    "\n",
    "\n",
    "txt = \"amanbittuyadav@domain\"\n",
    "x = re.search(\"@gmail.com&\", txt)\n",
    "if x:\n",
    "    print(\"Valid Email\")\n",
    "else:\n",
    "    print(\"Invalid email\")"
   ]
  },
  {
   "cell_type": "code",
   "execution_count": null,
   "metadata": {},
   "outputs": [],
   "source": [
    "email = input(\"Enter Email : \")\n",
    "x = re.search(\"\")"
   ]
  }
 ],
 "metadata": {
  "kernelspec": {
   "display_name": "Python 3",
   "language": "python",
   "name": "python3"
  },
  "language_info": {
   "codemirror_mode": {
    "name": "ipython",
    "version": 3
   },
   "file_extension": ".py",
   "mimetype": "text/x-python",
   "name": "python",
   "nbconvert_exporter": "python",
   "pygments_lexer": "ipython3",
   "version": "3.11.6"
  }
 },
 "nbformat": 4,
 "nbformat_minor": 2
}
