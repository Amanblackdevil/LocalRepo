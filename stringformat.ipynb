{
 "cells": [
  {
   "cell_type": "code",
   "execution_count": 2,
   "metadata": {},
   "outputs": [
    {
     "name": "stdout",
     "output_type": "stream",
     "text": [
      "The price of this is 49 rs\n",
      "The price of this is 49.00 rs\n"
     ]
    }
   ],
   "source": [
    "price = 49\n",
    "x = \"The price of this is {} rs\"\n",
    "print(x.format(price))\n",
    "y = \"The price of this is {:.2f} rs\"\n",
    "print(y.format(price))"
   ]
  },
  {
   "cell_type": "code",
   "execution_count": 3,
   "metadata": {},
   "outputs": [
    {
     "name": "stdout",
     "output_type": "stream",
     "text": [
      "I have booked 1 iPhone for 150000 rs\n"
     ]
    }
   ],
   "source": [
    "#multiple values\n",
    "product_name = \"iPhone\"\n",
    "price = 150000\n",
    "quantity = 1\n",
    "x = \"I have booked {} {} for {} rs\"\n",
    "print(x.format(quantity, product_name, price))"
   ]
  },
  {
   "cell_type": "code",
   "execution_count": 6,
   "metadata": {},
   "outputs": [
    {
     "name": "stdout",
     "output_type": "stream",
     "text": [
      "I bought a Ford and it is Mustang \n"
     ]
    }
   ],
   "source": [
    "myOrder = \"I bought a {carname} and it is {model} \"\n",
    "print(myOrder.format(carname = \"Ford\", model = \"Mustang\"))"
   ]
  },
  {
   "cell_type": "code",
   "execution_count": null,
   "metadata": {},
   "outputs": [],
   "source": []
  }
 ],
 "metadata": {
  "kernelspec": {
   "display_name": "Python 3",
   "language": "python",
   "name": "python3"
  },
  "language_info": {
   "codemirror_mode": {
    "name": "ipython",
    "version": 3
   },
   "file_extension": ".py",
   "mimetype": "text/x-python",
   "name": "python",
   "nbconvert_exporter": "python",
   "pygments_lexer": "ipython3",
   "version": "3.11.6"
  }
 },
 "nbformat": 4,
 "nbformat_minor": 2
}
